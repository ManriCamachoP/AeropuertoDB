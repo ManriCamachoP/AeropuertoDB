{
 "cells": [
  {
   "cell_type": "code",
   "execution_count": 3,
   "id": "7cd38924",
   "metadata": {},
   "outputs": [],
   "source": [
    "#Para usuarios en colab se debe instalar primero la biblioteca
      !pip install arangodb"
    "from arango import ArangoClient"
    
   ]
  },
  {
   "cell_type": "code",
   "execution_count": 4,
   "id": "db4093d2",
   "metadata": {},
   "outputs": [],
   "source": [
    "client = ArangoClient(hosts=\"http://0.0.0.0:8529/\")\n",
    "\n",
    "db = client.db(\"AeropuertoDB\", username=\"mancapo\", password=\"Manrique2002\")"
    "db = client.db("AeropuertoDB", username="root", password="pame")"
   ]
  },
  {
   "cell_type": "code",
   "execution_count": null,
   "id": "ca13a85a",
   "metadata": {},
   "outputs": [],
   "source": [
    "aeropuertos = "
   ]
  }
 ],
 "metadata": {
  "kernelspec": {
   "display_name": "Python 3 (ipykernel)",
   "language": "python",
   "name": "python3"
  },
  "language_info": {
   "codemirror_mode": {
    "name": "ipython",
    "version": 3
   },
   "file_extension": ".py",
   "mimetype": "text/x-python",
   "name": "python",
   "nbconvert_exporter": "python",
   "pygments_lexer": "ipython3",
   "version": "3.10.13"
  }
 },
 "nbformat": 4,
 "nbformat_minor": 5
}
