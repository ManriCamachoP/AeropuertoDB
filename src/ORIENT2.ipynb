{
 "cells": [
  {
   "cell_type": "code",
   "execution_count": 17,
   "id": "998400bf",
   "metadata": {
    "scrolled": true
   },
   "outputs": [
    {
     "name": "stdout",
     "output_type": "stream",
     "text": [
      "Collecting git+https://github.com/OpenConjecture/pyorient.git\n",
      "  Cloning https://github.com/OpenConjecture/pyorient.git to /private/var/folders/5c/4n982b9s0svctvnqygs9sbxh0000gn/T/pip-req-build-9vbovzwt\n",
      "  Running command git clone --filter=blob:none --quiet https://github.com/OpenConjecture/pyorient.git /private/var/folders/5c/4n982b9s0svctvnqygs9sbxh0000gn/T/pip-req-build-9vbovzwt\n",
      "  Resolved https://github.com/OpenConjecture/pyorient.git to commit c41c3b615fad09ea9dc71b802339c865d5cdce14\n",
      "  Preparing metadata (setup.py) ... \u001b[?25ldone\n",
      "\u001b[?25hBuilding wheels for collected packages: pyorient\n",
      "  Building wheel for pyorient (setup.py) ... \u001b[?25ldone\n",
      "\u001b[?25h  Created wheel for pyorient: filename=pyorient-1.5.5-py3-none-any.whl size=83239 sha256=3c4501c718b74297d17d31b0213352956515cee15a73ffc1f2a78d4cbc34a4c5\n",
      "  Stored in directory: /private/var/folders/5c/4n982b9s0svctvnqygs9sbxh0000gn/T/pip-ephem-wheel-cache-2z4t75rr/wheels/3f/dd/1c/7382ed6d7620fea508cd831fada5b14f804ed0fb5cdaa89b34\n",
      "Successfully built pyorient\n",
      "Installing collected packages: pyorient\n",
      "Successfully installed pyorient-1.5.5\n",
      "Note: you may need to restart the kernel to use updated packages.\n"
     ]
    }
   ],
   "source": [
    "#%pip install --upgrade git+https://github.com/OpenConjecture/pyorient.git"
   ]
  },
  {
   "cell_type": "code",
   "execution_count": 1,
   "id": "9afac40d",
   "metadata": {},
   "outputs": [],
   "source": [
    "#%pip install --upgrade git+https://github.com/OpenConjecture/pyorient.git\n",
    "\n",
    "import pandas as pd\n",
    "import pyorient #La libreria está muy vieja por lo cual puede tener errores, no se actualiza desde hace 6 años "
   ]
  },
  {
   "cell_type": "code",
   "execution_count": 2,
   "id": "e2efa1b9",
   "metadata": {},
   "outputs": [
    {
     "data": {
      "text/plain": [
       "[<pyorient.otypes.OrientCluster at 0x120b6df90>,\n",
       " <pyorient.otypes.OrientCluster at 0x1212a1e90>,\n",
       " <pyorient.otypes.OrientCluster at 0x120b6dfd0>,\n",
       " <pyorient.otypes.OrientCluster at 0x12177dfd0>,\n",
       " <pyorient.otypes.OrientCluster at 0x12177f450>,\n",
       " <pyorient.otypes.OrientCluster at 0x12179d190>,\n",
       " <pyorient.otypes.OrientCluster at 0x12179d1d0>,\n",
       " <pyorient.otypes.OrientCluster at 0x12179d210>,\n",
       " <pyorient.otypes.OrientCluster at 0x12179d250>,\n",
       " <pyorient.otypes.OrientCluster at 0x12177e010>,\n",
       " <pyorient.otypes.OrientCluster at 0x12179d290>,\n",
       " <pyorient.otypes.OrientCluster at 0x12179d2d0>,\n",
       " <pyorient.otypes.OrientCluster at 0x12179d310>,\n",
       " <pyorient.otypes.OrientCluster at 0x12179d350>,\n",
       " <pyorient.otypes.OrientCluster at 0x12179d390>,\n",
       " <pyorient.otypes.OrientCluster at 0x12179d3d0>,\n",
       " <pyorient.otypes.OrientCluster at 0x12179d410>,\n",
       " <pyorient.otypes.OrientCluster at 0x12179d450>,\n",
       " <pyorient.otypes.OrientCluster at 0x12179d490>,\n",
       " <pyorient.otypes.OrientCluster at 0x12179d4d0>,\n",
       " <pyorient.otypes.OrientCluster at 0x12179d510>,\n",
       " <pyorient.otypes.OrientCluster at 0x12179d550>,\n",
       " <pyorient.otypes.OrientCluster at 0x12179d590>,\n",
       " <pyorient.otypes.OrientCluster at 0x12179d5d0>,\n",
       " <pyorient.otypes.OrientCluster at 0x12179d650>,\n",
       " <pyorient.otypes.OrientCluster at 0x12179d690>,\n",
       " <pyorient.otypes.OrientCluster at 0x12179d6d0>,\n",
       " <pyorient.otypes.OrientCluster at 0x12179d710>,\n",
       " <pyorient.otypes.OrientCluster at 0x12179d750>,\n",
       " <pyorient.otypes.OrientCluster at 0x12179d790>,\n",
       " <pyorient.otypes.OrientCluster at 0x12179d7d0>,\n",
       " <pyorient.otypes.OrientCluster at 0x12179d810>,\n",
       " <pyorient.otypes.OrientCluster at 0x12179d850>,\n",
       " <pyorient.otypes.OrientCluster at 0x12179d890>,\n",
       " <pyorient.otypes.OrientCluster at 0x12179d8d0>,\n",
       " <pyorient.otypes.OrientCluster at 0x12179d910>,\n",
       " <pyorient.otypes.OrientCluster at 0x12179d950>,\n",
       " <pyorient.otypes.OrientCluster at 0x12179d990>,\n",
       " <pyorient.otypes.OrientCluster at 0x12179d9d0>,\n",
       " <pyorient.otypes.OrientCluster at 0x12179da10>,\n",
       " <pyorient.otypes.OrientCluster at 0x12179da50>,\n",
       " <pyorient.otypes.OrientCluster at 0x12179da90>,\n",
       " <pyorient.otypes.OrientCluster at 0x12179dad0>,\n",
       " <pyorient.otypes.OrientCluster at 0x12179db10>,\n",
       " <pyorient.otypes.OrientCluster at 0x12179db50>,\n",
       " <pyorient.otypes.OrientCluster at 0x12179db90>,\n",
       " <pyorient.otypes.OrientCluster at 0x12179dbd0>,\n",
       " <pyorient.otypes.OrientCluster at 0x12179dc10>,\n",
       " <pyorient.otypes.OrientCluster at 0x12179dc50>,\n",
       " <pyorient.otypes.OrientCluster at 0x12179dc90>,\n",
       " <pyorient.otypes.OrientCluster at 0x12179dcd0>,\n",
       " <pyorient.otypes.OrientCluster at 0x12179dd10>,\n",
       " <pyorient.otypes.OrientCluster at 0x12179dd50>,\n",
       " <pyorient.otypes.OrientCluster at 0x12179dd90>,\n",
       " <pyorient.otypes.OrientCluster at 0x12179ddd0>,\n",
       " <pyorient.otypes.OrientCluster at 0x12179de10>,\n",
       " <pyorient.otypes.OrientCluster at 0x12179de50>,\n",
       " <pyorient.otypes.OrientCluster at 0x12179de90>]"
      ]
     },
     "execution_count": 2,
     "metadata": {},
     "output_type": "execute_result"
    }
   ],
   "source": [
    "#Nos conectamos al servidor/localhost\n",
    "\n",
    "client = pyorient.OrientDB(\"localhost\", 2424)\n",
    "client.set_session_token( True )  # set true to enable the token based\n",
    "client.db_open( \"Aero\", \"root\", \"root\" )"
   ]
  },
  {
   "cell_type": "code",
   "execution_count": 3,
   "id": "1cec834e",
   "metadata": {},
   "outputs": [],
   "source": [
    "#Importamos las bases de datos, igualmente a como lo hicimos en ArangoDB\n",
    "\n",
    "aeropuerto_info = pd.read_csv(\"DataFrames/Info_Basica_Aeropuertos.csv\").iloc[:,1:]\n",
    "arrivos = pd.read_csv(\"DataFrames/arrivos.csv\").iloc[:,1:]\n",
    "aerolineas = pd.read_csv(\"DataFrames/Aerolineas.csv\").iloc[:,1:]\n",
    "aerolineas.fillna(\"NO\",inplace=True)\n",
    "aerolineas.drop_duplicates(subset=['IATA'],inplace=True)\n",
    "aerolineas = aerolineas[aerolineas['IATA'].str.len() <= 2]\n",
    "arrivos = arrivos.applymap(str)\n",
    "arrivos.drop_duplicates(inplace=True,subset=['Numero de Vuelo'])\n",
    "arrivos[\"cod origen\"] = arrivos.apply(lambda x: x['Origen'].split()[-1].replace('[','').replace(']',''), axis=1)\n",
    "arrivos['cod destino'] = arrivos.apply(lambda x: x['Destino'].split()[-1].replace('(','').replace(')',''), axis=1)\n",
    "aeropuerto_info['cod aero'] = aeropuerto_info.apply(lambda x: x['Nombre'].split()[-1].replace('(','').replace(')',''), axis=1)\n",
    "arrivos['cod vuelo'] = arrivos['Numero de Vuelo'].apply(lambda a: a[0:2]+a[3:])\n",
    "arrivos['IATA'] = arrivos['Numero de Vuelo'].apply(lambda a: a[0:2])"
   ]
  },
  {
   "cell_type": "code",
   "execution_count": 4,
   "id": "41513a86",
   "metadata": {},
   "outputs": [
    {
     "ename": "PyOrientCommandException",
     "evalue": " - ",
     "output_type": "error",
     "traceback": [
      "\u001b[0;31m---------------------------------------------------------------------------\u001b[0m",
      "\u001b[0;31mPyOrientCommandException\u001b[0m                  Traceback (most recent call last)",
      "Cell \u001b[0;32mIn[4], line 3\u001b[0m\n\u001b[1;32m      1\u001b[0m \u001b[38;5;66;03m#Ahora proseguimos a crear las clases\u001b[39;00m\n\u001b[0;32m----> 3\u001b[0m client\u001b[38;5;241m.\u001b[39mcommand(\u001b[38;5;124m\"\u001b[39m\u001b[38;5;124mcreate class aeropuerto extends V\u001b[39m\u001b[38;5;124m\"\u001b[39m) \u001b[38;5;66;03m#Tira error pero sin embargo se creo en el localhost\u001b[39;00m\n\u001b[1;32m      4\u001b[0m client\u001b[38;5;241m.\u001b[39mcommand(\u001b[38;5;124m\"\u001b[39m\u001b[38;5;124mcreate class aerolinea extends V\u001b[39m\u001b[38;5;124m\"\u001b[39m) \u001b[38;5;66;03m#Tira error pero sin embargo se creo en el localhost\u001b[39;00m\n\u001b[1;32m      5\u001b[0m client\u001b[38;5;241m.\u001b[39mcommand(\u001b[38;5;124m\"\u001b[39m\u001b[38;5;124mcreate class arrivos extends V\u001b[39m\u001b[38;5;124m\"\u001b[39m)\n",
      "File \u001b[0;32m~/anaconda3/lib/python3.11/site-packages/pyorient/orient.py:464\u001b[0m, in \u001b[0;36mOrientDB.command\u001b[0;34m(self, *args)\u001b[0m\n\u001b[1;32m    462\u001b[0m \u001b[38;5;28;01mdef\u001b[39;00m \u001b[38;5;21mcommand\u001b[39m(\u001b[38;5;28mself\u001b[39m, \u001b[38;5;241m*\u001b[39margs):\n\u001b[1;32m    463\u001b[0m     \u001b[38;5;28;01mreturn\u001b[39;00m \u001b[38;5;28mself\u001b[39m\u001b[38;5;241m.\u001b[39mget_message(\u001b[38;5;124m\"\u001b[39m\u001b[38;5;124mCommandMessage\u001b[39m\u001b[38;5;124m\"\u001b[39m) \\\n\u001b[0;32m--> 464\u001b[0m         \u001b[38;5;241m.\u001b[39mprepare(( QUERY_CMD, ) \u001b[38;5;241m+\u001b[39m args)\u001b[38;5;241m.\u001b[39msend()\u001b[38;5;241m.\u001b[39mfetch_response()\n",
      "File \u001b[0;32m~/anaconda3/lib/python3.11/site-packages/pyorient/messages/commands.py:144\u001b[0m, in \u001b[0;36mCommandMessage.fetch_response\u001b[0;34m(self)\u001b[0m\n\u001b[1;32m    141\u001b[0m     \u001b[38;5;28;01mreturn\u001b[39;00m \u001b[38;5;28mself\u001b[39m\n\u001b[1;32m    143\u001b[0m \u001b[38;5;66;03m# decode header only\u001b[39;00m\n\u001b[0;32m--> 144\u001b[0m \u001b[38;5;28msuper\u001b[39m( CommandMessage, \u001b[38;5;28mself\u001b[39m )\u001b[38;5;241m.\u001b[39mfetch_response()\n\u001b[1;32m    146\u001b[0m \u001b[38;5;28;01mif\u001b[39;00m \u001b[38;5;28mself\u001b[39m\u001b[38;5;241m.\u001b[39m_command_type \u001b[38;5;241m==\u001b[39m QUERY_ASYNC:\n\u001b[1;32m    147\u001b[0m     \u001b[38;5;28mself\u001b[39m\u001b[38;5;241m.\u001b[39m_read_async_records()\n",
      "File \u001b[0;32m~/anaconda3/lib/python3.11/site-packages/pyorient/messages/base.py:265\u001b[0m, in \u001b[0;36mBaseMessage.fetch_response\u001b[0;34m(self, *_continue)\u001b[0m\n\u001b[1;32m    263\u001b[0m \u001b[38;5;66;03m# already fetched, get last results as cache info\u001b[39;00m\n\u001b[1;32m    264\u001b[0m \u001b[38;5;28;01melif\u001b[39;00m \u001b[38;5;28mlen\u001b[39m(\u001b[38;5;28mself\u001b[39m\u001b[38;5;241m.\u001b[39m_body) \u001b[38;5;129;01mis\u001b[39;00m \u001b[38;5;241m0\u001b[39m:\n\u001b[0;32m--> 265\u001b[0m     \u001b[38;5;28mself\u001b[39m\u001b[38;5;241m.\u001b[39m_decode_all()\n\u001b[1;32m    266\u001b[0m     \u001b[38;5;28mself\u001b[39m\u001b[38;5;241m.\u001b[39mdump_streams()\n\u001b[1;32m    267\u001b[0m \u001b[38;5;28;01mreturn\u001b[39;00m \u001b[38;5;28mself\u001b[39m\u001b[38;5;241m.\u001b[39m_body\n",
      "File \u001b[0;32m~/anaconda3/lib/python3.11/site-packages/pyorient/messages/base.py:249\u001b[0m, in \u001b[0;36mBaseMessage._decode_all\u001b[0;34m(self)\u001b[0m\n\u001b[1;32m    248\u001b[0m \u001b[38;5;28;01mdef\u001b[39;00m \u001b[38;5;21m_decode_all\u001b[39m(\u001b[38;5;28mself\u001b[39m):\n\u001b[0;32m--> 249\u001b[0m     \u001b[38;5;28mself\u001b[39m\u001b[38;5;241m.\u001b[39m_decode_header()\n\u001b[1;32m    250\u001b[0m     \u001b[38;5;28mself\u001b[39m\u001b[38;5;241m.\u001b[39m_decode_body()\n",
      "File \u001b[0;32m~/anaconda3/lib/python3.11/site-packages/pyorient/messages/base.py:180\u001b[0m, in \u001b[0;36mBaseMessage._decode_header\u001b[0;34m(self)\u001b[0m\n\u001b[1;32m    177\u001b[0m             \u001b[38;5;66;03m# trash\u001b[39;00m\n\u001b[1;32m    178\u001b[0m             \u001b[38;5;28;01mdel\u001b[39;00m serialized_exception\n\u001b[0;32m--> 180\u001b[0m     \u001b[38;5;28;01mraise\u001b[39;00m PyOrientCommandException(\n\u001b[1;32m    181\u001b[0m         exception_class\u001b[38;5;241m.\u001b[39mdecode( \u001b[38;5;124m'\u001b[39m\u001b[38;5;124mutf8\u001b[39m\u001b[38;5;124m'\u001b[39m ),\n\u001b[1;32m    182\u001b[0m         [ exception_message\u001b[38;5;241m.\u001b[39mdecode( \u001b[38;5;124m'\u001b[39m\u001b[38;5;124mutf8\u001b[39m\u001b[38;5;124m'\u001b[39m ) ]\n\u001b[1;32m    183\u001b[0m     )\n\u001b[1;32m    185\u001b[0m \u001b[38;5;28;01melif\u001b[39;00m \u001b[38;5;28mself\u001b[39m\u001b[38;5;241m.\u001b[39m_header[\u001b[38;5;241m0\u001b[39m] \u001b[38;5;241m==\u001b[39m \u001b[38;5;241m3\u001b[39m:\n\u001b[1;32m    186\u001b[0m     \u001b[38;5;66;03m# Push notification, Node cluster changed\u001b[39;00m\n\u001b[1;32m    187\u001b[0m     \u001b[38;5;66;03m# TODO: UNTESTED CODE!!!\u001b[39;00m\n\u001b[1;32m    188\u001b[0m     \u001b[38;5;66;03m# FIELD_BYTE (OChannelBinaryProtocol.PUSH_DATA);  # WRITE 3\u001b[39;00m\n\u001b[1;32m    189\u001b[0m     \u001b[38;5;66;03m# FIELD_INT (Integer.MIN_VALUE);  # SESSION ID = 2^-31\u001b[39;00m\n\u001b[1;32m    190\u001b[0m     \u001b[38;5;66;03m# 80: \\x50 Request Push 1 byte: Push command id\u001b[39;00m\n\u001b[1;32m    191\u001b[0m     push_command_id \u001b[38;5;241m=\u001b[39m \u001b[38;5;28mself\u001b[39m\u001b[38;5;241m.\u001b[39m_decode_field(FIELD_BYTE)\n",
      "\u001b[0;31mPyOrientCommandException\u001b[0m:  - "
     ]
    }
   ],
   "source": [
    "#Ahora proseguimos a crear las clases\n",
    "\n",
    "client.command(\"create class aeropuerto extends V\") #Tira error pero sin embargo se creo en el localhost\n",
    "client.command(\"create class aerolinea extends V\") #Tira error pero sin embargo se creo en el localhost\n",
    "client.command(\"create class arrivos extends V\") #Tira error pero sin embargo se creo en el localhost"
   ]
  },
  {
   "cell_type": "code",
   "execution_count": 22,
   "id": "1faf809a",
   "metadata": {},
   "outputs": [
    {
     "ename": "PyOrientCommandException",
     "evalue": " - ",
     "output_type": "error",
     "traceback": [
      "\u001b[0;31m---------------------------------------------------------------------------\u001b[0m",
      "\u001b[0;31mPyOrientCommandException\u001b[0m                  Traceback (most recent call last)",
      "Cell \u001b[0;32mIn[22], line 6\u001b[0m\n\u001b[1;32m      1\u001b[0m \u001b[38;5;66;03m#Ahora teniendo ya las clases proseguimos a utilizar el insert para agregar la información \u001b[39;00m\n\u001b[1;32m      2\u001b[0m \n\u001b[1;32m      3\u001b[0m \u001b[38;5;66;03m##Primero a la clase de aeropuerto\u001b[39;00m\n\u001b[1;32m      4\u001b[0m \u001b[38;5;28;01mfor\u001b[39;00m row \u001b[38;5;129;01min\u001b[39;00m \u001b[38;5;28mrange\u001b[39m(aeropuerto_info\u001b[38;5;241m.\u001b[39mshape[\u001b[38;5;241m0\u001b[39m]):\n\u001b[0;32m----> 6\u001b[0m     client\u001b[38;5;241m.\u001b[39mcommand(\u001b[38;5;124mf\u001b[39m\u001b[38;5;124m\"\u001b[39m\u001b[38;5;124minsert into aeropuerto set \u001b[39m\u001b[38;5;132;01m{\u001b[39;00maeropuerto_info\u001b[38;5;241m.\u001b[39mcolumns[\u001b[38;5;241m0\u001b[39m]\u001b[38;5;132;01m}\u001b[39;00m\u001b[38;5;124m = \u001b[39m\u001b[38;5;132;01m{\u001b[39;00maeropuerto_info\u001b[38;5;241m.\u001b[39miloc[row,\u001b[38;5;241m0\u001b[39m]\u001b[38;5;132;01m}\u001b[39;00m\u001b[38;5;124m, \u001b[39m\u001b[38;5;132;01m{\u001b[39;00maeropuerto_info\u001b[38;5;241m.\u001b[39mcolumns[\u001b[38;5;241m1\u001b[39m]\u001b[38;5;132;01m}\u001b[39;00m\u001b[38;5;124m = \u001b[39m\u001b[38;5;132;01m{\u001b[39;00maeropuerto_info\u001b[38;5;241m.\u001b[39miloc[row,\u001b[38;5;241m1\u001b[39m]\u001b[38;5;132;01m}\u001b[39;00m\u001b[38;5;124m, \u001b[39m\u001b[38;5;132;01m{\u001b[39;00maeropuerto_info\u001b[38;5;241m.\u001b[39mcolumns[\u001b[38;5;241m2\u001b[39m]\u001b[38;5;132;01m}\u001b[39;00m\u001b[38;5;124m = \u001b[39m\u001b[38;5;132;01m{\u001b[39;00maeropuerto_info\u001b[38;5;241m.\u001b[39miloc[row,\u001b[38;5;241m2\u001b[39m]\u001b[38;5;132;01m}\u001b[39;00m\u001b[38;5;124m, \u001b[39m\u001b[38;5;132;01m{\u001b[39;00maeropuerto_info\u001b[38;5;241m.\u001b[39mcolumns[\u001b[38;5;241m3\u001b[39m]\u001b[38;5;132;01m}\u001b[39;00m\u001b[38;5;124m = \u001b[39m\u001b[38;5;132;01m{\u001b[39;00maeropuerto_info\u001b[38;5;241m.\u001b[39miloc[row,\u001b[38;5;241m3\u001b[39m]\u001b[38;5;132;01m}\u001b[39;00m\u001b[38;5;124m\"\u001b[39m)\n",
      "File \u001b[0;32m~/anaconda3/lib/python3.11/site-packages/pyorient/orient.py:464\u001b[0m, in \u001b[0;36mOrientDB.command\u001b[0;34m(self, *args)\u001b[0m\n\u001b[1;32m    462\u001b[0m \u001b[38;5;28;01mdef\u001b[39;00m \u001b[38;5;21mcommand\u001b[39m(\u001b[38;5;28mself\u001b[39m, \u001b[38;5;241m*\u001b[39margs):\n\u001b[1;32m    463\u001b[0m     \u001b[38;5;28;01mreturn\u001b[39;00m \u001b[38;5;28mself\u001b[39m\u001b[38;5;241m.\u001b[39mget_message(\u001b[38;5;124m\"\u001b[39m\u001b[38;5;124mCommandMessage\u001b[39m\u001b[38;5;124m\"\u001b[39m) \\\n\u001b[0;32m--> 464\u001b[0m         \u001b[38;5;241m.\u001b[39mprepare(( QUERY_CMD, ) \u001b[38;5;241m+\u001b[39m args)\u001b[38;5;241m.\u001b[39msend()\u001b[38;5;241m.\u001b[39mfetch_response()\n",
      "File \u001b[0;32m~/anaconda3/lib/python3.11/site-packages/pyorient/messages/commands.py:144\u001b[0m, in \u001b[0;36mCommandMessage.fetch_response\u001b[0;34m(self)\u001b[0m\n\u001b[1;32m    141\u001b[0m     \u001b[38;5;28;01mreturn\u001b[39;00m \u001b[38;5;28mself\u001b[39m\n\u001b[1;32m    143\u001b[0m \u001b[38;5;66;03m# decode header only\u001b[39;00m\n\u001b[0;32m--> 144\u001b[0m \u001b[38;5;28msuper\u001b[39m( CommandMessage, \u001b[38;5;28mself\u001b[39m )\u001b[38;5;241m.\u001b[39mfetch_response()\n\u001b[1;32m    146\u001b[0m \u001b[38;5;28;01mif\u001b[39;00m \u001b[38;5;28mself\u001b[39m\u001b[38;5;241m.\u001b[39m_command_type \u001b[38;5;241m==\u001b[39m QUERY_ASYNC:\n\u001b[1;32m    147\u001b[0m     \u001b[38;5;28mself\u001b[39m\u001b[38;5;241m.\u001b[39m_read_async_records()\n",
      "File \u001b[0;32m~/anaconda3/lib/python3.11/site-packages/pyorient/messages/base.py:265\u001b[0m, in \u001b[0;36mBaseMessage.fetch_response\u001b[0;34m(self, *_continue)\u001b[0m\n\u001b[1;32m    263\u001b[0m \u001b[38;5;66;03m# already fetched, get last results as cache info\u001b[39;00m\n\u001b[1;32m    264\u001b[0m \u001b[38;5;28;01melif\u001b[39;00m \u001b[38;5;28mlen\u001b[39m(\u001b[38;5;28mself\u001b[39m\u001b[38;5;241m.\u001b[39m_body) \u001b[38;5;129;01mis\u001b[39;00m \u001b[38;5;241m0\u001b[39m:\n\u001b[0;32m--> 265\u001b[0m     \u001b[38;5;28mself\u001b[39m\u001b[38;5;241m.\u001b[39m_decode_all()\n\u001b[1;32m    266\u001b[0m     \u001b[38;5;28mself\u001b[39m\u001b[38;5;241m.\u001b[39mdump_streams()\n\u001b[1;32m    267\u001b[0m \u001b[38;5;28;01mreturn\u001b[39;00m \u001b[38;5;28mself\u001b[39m\u001b[38;5;241m.\u001b[39m_body\n",
      "File \u001b[0;32m~/anaconda3/lib/python3.11/site-packages/pyorient/messages/base.py:249\u001b[0m, in \u001b[0;36mBaseMessage._decode_all\u001b[0;34m(self)\u001b[0m\n\u001b[1;32m    248\u001b[0m \u001b[38;5;28;01mdef\u001b[39;00m \u001b[38;5;21m_decode_all\u001b[39m(\u001b[38;5;28mself\u001b[39m):\n\u001b[0;32m--> 249\u001b[0m     \u001b[38;5;28mself\u001b[39m\u001b[38;5;241m.\u001b[39m_decode_header()\n\u001b[1;32m    250\u001b[0m     \u001b[38;5;28mself\u001b[39m\u001b[38;5;241m.\u001b[39m_decode_body()\n",
      "File \u001b[0;32m~/anaconda3/lib/python3.11/site-packages/pyorient/messages/base.py:180\u001b[0m, in \u001b[0;36mBaseMessage._decode_header\u001b[0;34m(self)\u001b[0m\n\u001b[1;32m    177\u001b[0m             \u001b[38;5;66;03m# trash\u001b[39;00m\n\u001b[1;32m    178\u001b[0m             \u001b[38;5;28;01mdel\u001b[39;00m serialized_exception\n\u001b[0;32m--> 180\u001b[0m     \u001b[38;5;28;01mraise\u001b[39;00m PyOrientCommandException(\n\u001b[1;32m    181\u001b[0m         exception_class\u001b[38;5;241m.\u001b[39mdecode( \u001b[38;5;124m'\u001b[39m\u001b[38;5;124mutf8\u001b[39m\u001b[38;5;124m'\u001b[39m ),\n\u001b[1;32m    182\u001b[0m         [ exception_message\u001b[38;5;241m.\u001b[39mdecode( \u001b[38;5;124m'\u001b[39m\u001b[38;5;124mutf8\u001b[39m\u001b[38;5;124m'\u001b[39m ) ]\n\u001b[1;32m    183\u001b[0m     )\n\u001b[1;32m    185\u001b[0m \u001b[38;5;28;01melif\u001b[39;00m \u001b[38;5;28mself\u001b[39m\u001b[38;5;241m.\u001b[39m_header[\u001b[38;5;241m0\u001b[39m] \u001b[38;5;241m==\u001b[39m \u001b[38;5;241m3\u001b[39m:\n\u001b[1;32m    186\u001b[0m     \u001b[38;5;66;03m# Push notification, Node cluster changed\u001b[39;00m\n\u001b[1;32m    187\u001b[0m     \u001b[38;5;66;03m# TODO: UNTESTED CODE!!!\u001b[39;00m\n\u001b[1;32m    188\u001b[0m     \u001b[38;5;66;03m# FIELD_BYTE (OChannelBinaryProtocol.PUSH_DATA);  # WRITE 3\u001b[39;00m\n\u001b[1;32m    189\u001b[0m     \u001b[38;5;66;03m# FIELD_INT (Integer.MIN_VALUE);  # SESSION ID = 2^-31\u001b[39;00m\n\u001b[1;32m    190\u001b[0m     \u001b[38;5;66;03m# 80: \\x50 Request Push 1 byte: Push command id\u001b[39;00m\n\u001b[1;32m    191\u001b[0m     push_command_id \u001b[38;5;241m=\u001b[39m \u001b[38;5;28mself\u001b[39m\u001b[38;5;241m.\u001b[39m_decode_field(FIELD_BYTE)\n",
      "\u001b[0;31mPyOrientCommandException\u001b[0m:  - "
     ]
    }
   ],
   "source": [
    "#Ahora teniendo ya las clases proseguimos a utilizar el insert para agregar la información \n",
    "\n",
    "##Primero a la clase de aeropuerto\n",
    "for row in range(aeropuerto_info.shape[0]):\n",
    "    \n",
    "    client.command(f\"insert into aeropuerto set {aeropuerto_info.columns[0]} = {aeropuerto_info.iloc[row,0]}, {aeropuerto_info.columns[1]} = {aeropuerto_info.iloc[row,1]}, {aeropuerto_info.columns[2]} = {aeropuerto_info.iloc[row,2]}, {aeropuerto_info.columns[3]} = {aeropuerto_info.iloc[row,3]}\")"
   ]
  },
  {
   "cell_type": "code",
   "execution_count": 14,
   "id": "2880f40e",
   "metadata": {},
   "outputs": [],
   "source": [
    "# Como se puede observar en el error que hay probablemente sea que OrientDB no soporta carácteres en español"
   ]
  },
  {
   "cell_type": "code",
   "execution_count": 16,
   "id": "dc94fbad",
   "metadata": {},
   "outputs": [],
   "source": [
    "aeropuerto_info.rename(columns={\"Ubicación\":\"Ubicacion\",\"Teléfono\":\"Telefono\"},inplace=True)"
   ]
  },
  {
   "cell_type": "code",
   "execution_count": 28,
   "id": "903d948b",
   "metadata": {},
   "outputs": [
    {
     "ename": "TimeoutError",
     "evalue": "timed out",
     "output_type": "error",
     "traceback": [
      "\u001b[0;31m---------------------------------------------------------------------------\u001b[0m",
      "\u001b[0;31mTimeoutError\u001b[0m                              Traceback (most recent call last)",
      "Cell \u001b[0;32mIn[28], line 3\u001b[0m\n\u001b[1;32m      1\u001b[0m \u001b[38;5;28;01mfor\u001b[39;00m row \u001b[38;5;129;01min\u001b[39;00m \u001b[38;5;28mrange\u001b[39m(aeropuerto_info\u001b[38;5;241m.\u001b[39mshape[\u001b[38;5;241m0\u001b[39m]):\n\u001b[0;32m----> 3\u001b[0m     client\u001b[38;5;241m.\u001b[39mcommand(\u001b[38;5;124mf\u001b[39m\u001b[38;5;124m\"\u001b[39m\u001b[38;5;124minsert into aeropuerto set \u001b[39m\u001b[38;5;132;01m{\u001b[39;00maeropuerto_info\u001b[38;5;241m.\u001b[39mcolumns[\u001b[38;5;241m0\u001b[39m]\u001b[38;5;132;01m}\u001b[39;00m\u001b[38;5;124m = \u001b[39m\u001b[38;5;132;01m{\u001b[39;00maeropuerto_info\u001b[38;5;241m.\u001b[39miloc[row,\u001b[38;5;241m0\u001b[39m]\u001b[38;5;132;01m}\u001b[39;00m\u001b[38;5;124m, \u001b[39m\u001b[38;5;132;01m{\u001b[39;00maeropuerto_info\u001b[38;5;241m.\u001b[39mcolumns[\u001b[38;5;241m1\u001b[39m]\u001b[38;5;132;01m}\u001b[39;00m\u001b[38;5;124m = \u001b[39m\u001b[38;5;132;01m{\u001b[39;00maeropuerto_info\u001b[38;5;241m.\u001b[39miloc[row,\u001b[38;5;241m1\u001b[39m]\u001b[38;5;132;01m}\u001b[39;00m\u001b[38;5;124m, \u001b[39m\u001b[38;5;132;01m{\u001b[39;00maeropuerto_info\u001b[38;5;241m.\u001b[39mcolumns[\u001b[38;5;241m2\u001b[39m]\u001b[38;5;132;01m}\u001b[39;00m\u001b[38;5;124m = \u001b[39m\u001b[38;5;132;01m{\u001b[39;00maeropuerto_info\u001b[38;5;241m.\u001b[39miloc[row,\u001b[38;5;241m2\u001b[39m]\u001b[38;5;132;01m}\u001b[39;00m\u001b[38;5;124m, \u001b[39m\u001b[38;5;132;01m{\u001b[39;00maeropuerto_info\u001b[38;5;241m.\u001b[39mcolumns[\u001b[38;5;241m3\u001b[39m]\u001b[38;5;132;01m}\u001b[39;00m\u001b[38;5;124m = \u001b[39m\u001b[38;5;132;01m{\u001b[39;00maeropuerto_info\u001b[38;5;241m.\u001b[39miloc[row,\u001b[38;5;241m3\u001b[39m]\u001b[38;5;132;01m}\u001b[39;00m\u001b[38;5;124m\"\u001b[39m)\n",
      "File \u001b[0;32m~/anaconda3/lib/python3.11/site-packages/pyorient/orient.py:464\u001b[0m, in \u001b[0;36mOrientDB.command\u001b[0;34m(self, *args)\u001b[0m\n\u001b[1;32m    462\u001b[0m \u001b[38;5;28;01mdef\u001b[39;00m \u001b[38;5;21mcommand\u001b[39m(\u001b[38;5;28mself\u001b[39m, \u001b[38;5;241m*\u001b[39margs):\n\u001b[1;32m    463\u001b[0m     \u001b[38;5;28;01mreturn\u001b[39;00m \u001b[38;5;28mself\u001b[39m\u001b[38;5;241m.\u001b[39mget_message(\u001b[38;5;124m\"\u001b[39m\u001b[38;5;124mCommandMessage\u001b[39m\u001b[38;5;124m\"\u001b[39m) \\\n\u001b[0;32m--> 464\u001b[0m         \u001b[38;5;241m.\u001b[39mprepare(( QUERY_CMD, ) \u001b[38;5;241m+\u001b[39m args)\u001b[38;5;241m.\u001b[39msend()\u001b[38;5;241m.\u001b[39mfetch_response()\n",
      "File \u001b[0;32m~/anaconda3/lib/python3.11/site-packages/pyorient/messages/commands.py:144\u001b[0m, in \u001b[0;36mCommandMessage.fetch_response\u001b[0;34m(self)\u001b[0m\n\u001b[1;32m    141\u001b[0m     \u001b[38;5;28;01mreturn\u001b[39;00m \u001b[38;5;28mself\u001b[39m\n\u001b[1;32m    143\u001b[0m \u001b[38;5;66;03m# decode header only\u001b[39;00m\n\u001b[0;32m--> 144\u001b[0m \u001b[38;5;28msuper\u001b[39m( CommandMessage, \u001b[38;5;28mself\u001b[39m )\u001b[38;5;241m.\u001b[39mfetch_response()\n\u001b[1;32m    146\u001b[0m \u001b[38;5;28;01mif\u001b[39;00m \u001b[38;5;28mself\u001b[39m\u001b[38;5;241m.\u001b[39m_command_type \u001b[38;5;241m==\u001b[39m QUERY_ASYNC:\n\u001b[1;32m    147\u001b[0m     \u001b[38;5;28mself\u001b[39m\u001b[38;5;241m.\u001b[39m_read_async_records()\n",
      "File \u001b[0;32m~/anaconda3/lib/python3.11/site-packages/pyorient/messages/base.py:265\u001b[0m, in \u001b[0;36mBaseMessage.fetch_response\u001b[0;34m(self, *_continue)\u001b[0m\n\u001b[1;32m    263\u001b[0m \u001b[38;5;66;03m# already fetched, get last results as cache info\u001b[39;00m\n\u001b[1;32m    264\u001b[0m \u001b[38;5;28;01melif\u001b[39;00m \u001b[38;5;28mlen\u001b[39m(\u001b[38;5;28mself\u001b[39m\u001b[38;5;241m.\u001b[39m_body) \u001b[38;5;129;01mis\u001b[39;00m \u001b[38;5;241m0\u001b[39m:\n\u001b[0;32m--> 265\u001b[0m     \u001b[38;5;28mself\u001b[39m\u001b[38;5;241m.\u001b[39m_decode_all()\n\u001b[1;32m    266\u001b[0m     \u001b[38;5;28mself\u001b[39m\u001b[38;5;241m.\u001b[39mdump_streams()\n\u001b[1;32m    267\u001b[0m \u001b[38;5;28;01mreturn\u001b[39;00m \u001b[38;5;28mself\u001b[39m\u001b[38;5;241m.\u001b[39m_body\n",
      "File \u001b[0;32m~/anaconda3/lib/python3.11/site-packages/pyorient/messages/base.py:249\u001b[0m, in \u001b[0;36mBaseMessage._decode_all\u001b[0;34m(self)\u001b[0m\n\u001b[1;32m    248\u001b[0m \u001b[38;5;28;01mdef\u001b[39;00m \u001b[38;5;21m_decode_all\u001b[39m(\u001b[38;5;28mself\u001b[39m):\n\u001b[0;32m--> 249\u001b[0m     \u001b[38;5;28mself\u001b[39m\u001b[38;5;241m.\u001b[39m_decode_header()\n\u001b[1;32m    250\u001b[0m     \u001b[38;5;28mself\u001b[39m\u001b[38;5;241m.\u001b[39m_decode_body()\n",
      "File \u001b[0;32m~/anaconda3/lib/python3.11/site-packages/pyorient/messages/base.py:234\u001b[0m, in \u001b[0;36mBaseMessage._decode_header\u001b[0;34m(self)\u001b[0m\n\u001b[1;32m    226\u001b[0m \u001b[38;5;250m\u001b[39m\u001b[38;5;124;03m\"\"\"\u001b[39;00m\n\u001b[1;32m    227\u001b[0m \u001b[38;5;124;03m#  Token authentication handling\u001b[39;00m\n\u001b[1;32m    228\u001b[0m \u001b[38;5;124;03m#  we must recognize ConnectMessage and DbOpenMessage messages\u001b[39;00m\n\u001b[1;32m    229\u001b[0m \u001b[38;5;124;03m    TODO: change this check avoiding cross import,\u001b[39;00m\n\u001b[1;32m    230\u001b[0m \u001b[38;5;124;03m    importing a subclass in a super class is bad\u001b[39;00m\n\u001b[1;32m    231\u001b[0m \u001b[38;5;124;03m\"\"\"\u001b[39;00m\n\u001b[1;32m    232\u001b[0m \u001b[38;5;28;01mif\u001b[39;00m \u001b[38;5;129;01mnot\u001b[39;00m \u001b[38;5;28misinstance\u001b[39m(\u001b[38;5;28mself\u001b[39m, (ConnectMessage, DbOpenMessage)) \\\n\u001b[1;32m    233\u001b[0m         \u001b[38;5;129;01mand\u001b[39;00m \u001b[38;5;28mself\u001b[39m\u001b[38;5;241m.\u001b[39m_request_token \u001b[38;5;129;01mis\u001b[39;00m \u001b[38;5;28;01mTrue\u001b[39;00m:\n\u001b[0;32m--> 234\u001b[0m     token_refresh \u001b[38;5;241m=\u001b[39m \u001b[38;5;28mself\u001b[39m\u001b[38;5;241m.\u001b[39m_decode_field(FIELD_STRING)\n\u001b[1;32m    235\u001b[0m     \u001b[38;5;28;01mif\u001b[39;00m token_refresh \u001b[38;5;241m!=\u001b[39m \u001b[38;5;124mb\u001b[39m\u001b[38;5;124m'\u001b[39m\u001b[38;5;124m'\u001b[39m:\n\u001b[1;32m    236\u001b[0m         \u001b[38;5;28mself\u001b[39m\u001b[38;5;241m.\u001b[39m_auth_token \u001b[38;5;241m=\u001b[39m token_refresh\n",
      "File \u001b[0;32m~/anaconda3/lib/python3.11/site-packages/pyorient/messages/base.py:366\u001b[0m, in \u001b[0;36mBaseMessage._decode_field\u001b[0;34m(self, _type)\u001b[0m\n\u001b[1;32m    364\u001b[0m     _decoded_string \u001b[38;5;241m=\u001b[39m \u001b[38;5;124mb\u001b[39m\u001b[38;5;124m'\u001b[39m\u001b[38;5;124m'\u001b[39m\n\u001b[1;32m    365\u001b[0m \u001b[38;5;28;01melse\u001b[39;00m:\n\u001b[0;32m--> 366\u001b[0m     _decoded_string \u001b[38;5;241m=\u001b[39m \u001b[38;5;28mself\u001b[39m\u001b[38;5;241m.\u001b[39m_orientSocket\u001b[38;5;241m.\u001b[39mread( _len )\n\u001b[1;32m    368\u001b[0m \u001b[38;5;28mself\u001b[39m\u001b[38;5;241m.\u001b[39m_input_buffer \u001b[38;5;241m+\u001b[39m\u001b[38;5;241m=\u001b[39m _value\n\u001b[1;32m    369\u001b[0m \u001b[38;5;28mself\u001b[39m\u001b[38;5;241m.\u001b[39m_input_buffer \u001b[38;5;241m+\u001b[39m\u001b[38;5;241m=\u001b[39m _decoded_string\n",
      "File \u001b[0;32m~/anaconda3/lib/python3.11/site-packages/pyorient/orient.py:169\u001b[0m, in \u001b[0;36mOrientSocket.read\u001b[0;34m(self, _len_to_read)\u001b[0m\n\u001b[1;32m    167\u001b[0m view \u001b[38;5;241m=\u001b[39m \u001b[38;5;28mmemoryview\u001b[39m(buf)\n\u001b[1;32m    168\u001b[0m \u001b[38;5;28;01mwhile\u001b[39;00m _len_to_read:\n\u001b[0;32m--> 169\u001b[0m     n_bytes \u001b[38;5;241m=\u001b[39m \u001b[38;5;28mself\u001b[39m\u001b[38;5;241m.\u001b[39m_socket\u001b[38;5;241m.\u001b[39mrecv_into(view, _len_to_read)\n\u001b[1;32m    170\u001b[0m     \u001b[38;5;28;01mif\u001b[39;00m \u001b[38;5;129;01mnot\u001b[39;00m n_bytes:\n\u001b[1;32m    171\u001b[0m         \u001b[38;5;28mself\u001b[39m\u001b[38;5;241m.\u001b[39m_socket\u001b[38;5;241m.\u001b[39mclose()\n",
      "\u001b[0;31mTimeoutError\u001b[0m: timed out"
     ]
    }
   ],
   "source": [
    "for row in range(aeropuerto_info.shape[0]):\n",
    "    \n",
    "    client.command(f\"insert into aeropuerto set {aeropuerto_info.columns[0]} = {aeropuerto_info.iloc[row,0]}, {aeropuerto_info.columns[1]} = {aeropuerto_info.iloc[row,1]}, {aeropuerto_info.columns[2]} = {aeropuerto_info.iloc[row,2]}, {aeropuerto_info.columns[3]} = {aeropuerto_info.iloc[row,3]}\")"
   ]
  },
  {
   "cell_type": "code",
   "execution_count": 5,
   "id": "fdbc4d1d",
   "metadata": {},
   "outputs": [],
   "source": [
    "aeropuerto_info['Nombre'] = aeropuerto_info['Nombre'].str.normalize('NFKD').str.encode('ascii', errors='ignore').str.decode('utf-8')"
   ]
  },
  {
   "cell_type": "code",
   "execution_count": 33,
   "id": "1e74229f",
   "metadata": {},
   "outputs": [
    {
     "ename": "BlockingIOError",
     "evalue": "[Errno 35] Resource temporarily unavailable",
     "output_type": "error",
     "traceback": [
      "\u001b[0;31m---------------------------------------------------------------------------\u001b[0m",
      "\u001b[0;31mBlockingIOError\u001b[0m                           Traceback (most recent call last)",
      "Cell \u001b[0;32mIn[33], line 1\u001b[0m\n\u001b[0;32m----> 1\u001b[0m client\u001b[38;5;241m.\u001b[39mcommand(\u001b[38;5;124mf\u001b[39m\u001b[38;5;124m\"\u001b[39m\u001b[38;5;124minsert into aeropuerto set \u001b[39m\u001b[38;5;132;01m{\u001b[39;00maeropuerto_info\u001b[38;5;241m.\u001b[39mcolumns[\u001b[38;5;241m0\u001b[39m]\u001b[38;5;132;01m}\u001b[39;00m\u001b[38;5;124m = \u001b[39m\u001b[38;5;132;01m{\u001b[39;00maeropuerto_info\u001b[38;5;241m.\u001b[39miloc[\u001b[38;5;241m0\u001b[39m,\u001b[38;5;241m0\u001b[39m]\u001b[38;5;132;01m}\u001b[39;00m\u001b[38;5;124m, \u001b[39m\u001b[38;5;132;01m{\u001b[39;00maeropuerto_info\u001b[38;5;241m.\u001b[39mcolumns[\u001b[38;5;241m1\u001b[39m]\u001b[38;5;132;01m}\u001b[39;00m\u001b[38;5;124m = \u001b[39m\u001b[38;5;132;01m{\u001b[39;00maeropuerto_info\u001b[38;5;241m.\u001b[39miloc[\u001b[38;5;241m0\u001b[39m,\u001b[38;5;241m1\u001b[39m]\u001b[38;5;132;01m}\u001b[39;00m\u001b[38;5;124m, \u001b[39m\u001b[38;5;132;01m{\u001b[39;00maeropuerto_info\u001b[38;5;241m.\u001b[39mcolumns[\u001b[38;5;241m2\u001b[39m]\u001b[38;5;132;01m}\u001b[39;00m\u001b[38;5;124m = \u001b[39m\u001b[38;5;132;01m{\u001b[39;00maeropuerto_info\u001b[38;5;241m.\u001b[39miloc[\u001b[38;5;241m0\u001b[39m,\u001b[38;5;241m2\u001b[39m]\u001b[38;5;132;01m}\u001b[39;00m\u001b[38;5;124m, \u001b[39m\u001b[38;5;132;01m{\u001b[39;00maeropuerto_info\u001b[38;5;241m.\u001b[39mcolumns[\u001b[38;5;241m3\u001b[39m]\u001b[38;5;132;01m}\u001b[39;00m\u001b[38;5;124m = \u001b[39m\u001b[38;5;132;01m{\u001b[39;00maeropuerto_info\u001b[38;5;241m.\u001b[39miloc[\u001b[38;5;241m0\u001b[39m,\u001b[38;5;241m3\u001b[39m]\u001b[38;5;132;01m}\u001b[39;00m\u001b[38;5;124m\"\u001b[39m)\n",
      "File \u001b[0;32m~/anaconda3/lib/python3.11/site-packages/pyorient/orient.py:464\u001b[0m, in \u001b[0;36mOrientDB.command\u001b[0;34m(self, *args)\u001b[0m\n\u001b[1;32m    462\u001b[0m \u001b[38;5;28;01mdef\u001b[39;00m \u001b[38;5;21mcommand\u001b[39m(\u001b[38;5;28mself\u001b[39m, \u001b[38;5;241m*\u001b[39margs):\n\u001b[1;32m    463\u001b[0m     \u001b[38;5;28;01mreturn\u001b[39;00m \u001b[38;5;28mself\u001b[39m\u001b[38;5;241m.\u001b[39mget_message(\u001b[38;5;124m\"\u001b[39m\u001b[38;5;124mCommandMessage\u001b[39m\u001b[38;5;124m\"\u001b[39m) \\\n\u001b[0;32m--> 464\u001b[0m         \u001b[38;5;241m.\u001b[39mprepare(( QUERY_CMD, ) \u001b[38;5;241m+\u001b[39m args)\u001b[38;5;241m.\u001b[39msend()\u001b[38;5;241m.\u001b[39mfetch_response()\n",
      "File \u001b[0;32m~/anaconda3/lib/python3.11/site-packages/pyorient/messages/commands.py:144\u001b[0m, in \u001b[0;36mCommandMessage.fetch_response\u001b[0;34m(self)\u001b[0m\n\u001b[1;32m    141\u001b[0m     \u001b[38;5;28;01mreturn\u001b[39;00m \u001b[38;5;28mself\u001b[39m\n\u001b[1;32m    143\u001b[0m \u001b[38;5;66;03m# decode header only\u001b[39;00m\n\u001b[0;32m--> 144\u001b[0m \u001b[38;5;28msuper\u001b[39m( CommandMessage, \u001b[38;5;28mself\u001b[39m )\u001b[38;5;241m.\u001b[39mfetch_response()\n\u001b[1;32m    146\u001b[0m \u001b[38;5;28;01mif\u001b[39;00m \u001b[38;5;28mself\u001b[39m\u001b[38;5;241m.\u001b[39m_command_type \u001b[38;5;241m==\u001b[39m QUERY_ASYNC:\n\u001b[1;32m    147\u001b[0m     \u001b[38;5;28mself\u001b[39m\u001b[38;5;241m.\u001b[39m_read_async_records()\n",
      "File \u001b[0;32m~/anaconda3/lib/python3.11/site-packages/pyorient/messages/base.py:265\u001b[0m, in \u001b[0;36mBaseMessage.fetch_response\u001b[0;34m(self, *_continue)\u001b[0m\n\u001b[1;32m    263\u001b[0m \u001b[38;5;66;03m# already fetched, get last results as cache info\u001b[39;00m\n\u001b[1;32m    264\u001b[0m \u001b[38;5;28;01melif\u001b[39;00m \u001b[38;5;28mlen\u001b[39m(\u001b[38;5;28mself\u001b[39m\u001b[38;5;241m.\u001b[39m_body) \u001b[38;5;129;01mis\u001b[39;00m \u001b[38;5;241m0\u001b[39m:\n\u001b[0;32m--> 265\u001b[0m     \u001b[38;5;28mself\u001b[39m\u001b[38;5;241m.\u001b[39m_decode_all()\n\u001b[1;32m    266\u001b[0m     \u001b[38;5;28mself\u001b[39m\u001b[38;5;241m.\u001b[39mdump_streams()\n\u001b[1;32m    267\u001b[0m \u001b[38;5;28;01mreturn\u001b[39;00m \u001b[38;5;28mself\u001b[39m\u001b[38;5;241m.\u001b[39m_body\n",
      "File \u001b[0;32m~/anaconda3/lib/python3.11/site-packages/pyorient/messages/base.py:249\u001b[0m, in \u001b[0;36mBaseMessage._decode_all\u001b[0;34m(self)\u001b[0m\n\u001b[1;32m    248\u001b[0m \u001b[38;5;28;01mdef\u001b[39;00m \u001b[38;5;21m_decode_all\u001b[39m(\u001b[38;5;28mself\u001b[39m):\n\u001b[0;32m--> 249\u001b[0m     \u001b[38;5;28mself\u001b[39m\u001b[38;5;241m.\u001b[39m_decode_header()\n\u001b[1;32m    250\u001b[0m     \u001b[38;5;28mself\u001b[39m\u001b[38;5;241m.\u001b[39m_decode_body()\n",
      "File \u001b[0;32m~/anaconda3/lib/python3.11/site-packages/pyorient/messages/base.py:234\u001b[0m, in \u001b[0;36mBaseMessage._decode_header\u001b[0;34m(self)\u001b[0m\n\u001b[1;32m    226\u001b[0m \u001b[38;5;250m\u001b[39m\u001b[38;5;124;03m\"\"\"\u001b[39;00m\n\u001b[1;32m    227\u001b[0m \u001b[38;5;124;03m#  Token authentication handling\u001b[39;00m\n\u001b[1;32m    228\u001b[0m \u001b[38;5;124;03m#  we must recognize ConnectMessage and DbOpenMessage messages\u001b[39;00m\n\u001b[1;32m    229\u001b[0m \u001b[38;5;124;03m    TODO: change this check avoiding cross import,\u001b[39;00m\n\u001b[1;32m    230\u001b[0m \u001b[38;5;124;03m    importing a subclass in a super class is bad\u001b[39;00m\n\u001b[1;32m    231\u001b[0m \u001b[38;5;124;03m\"\"\"\u001b[39;00m\n\u001b[1;32m    232\u001b[0m \u001b[38;5;28;01mif\u001b[39;00m \u001b[38;5;129;01mnot\u001b[39;00m \u001b[38;5;28misinstance\u001b[39m(\u001b[38;5;28mself\u001b[39m, (ConnectMessage, DbOpenMessage)) \\\n\u001b[1;32m    233\u001b[0m         \u001b[38;5;129;01mand\u001b[39;00m \u001b[38;5;28mself\u001b[39m\u001b[38;5;241m.\u001b[39m_request_token \u001b[38;5;129;01mis\u001b[39;00m \u001b[38;5;28;01mTrue\u001b[39;00m:\n\u001b[0;32m--> 234\u001b[0m     token_refresh \u001b[38;5;241m=\u001b[39m \u001b[38;5;28mself\u001b[39m\u001b[38;5;241m.\u001b[39m_decode_field(FIELD_STRING)\n\u001b[1;32m    235\u001b[0m     \u001b[38;5;28;01mif\u001b[39;00m token_refresh \u001b[38;5;241m!=\u001b[39m \u001b[38;5;124mb\u001b[39m\u001b[38;5;124m'\u001b[39m\u001b[38;5;124m'\u001b[39m:\n\u001b[1;32m    236\u001b[0m         \u001b[38;5;28mself\u001b[39m\u001b[38;5;241m.\u001b[39m_auth_token \u001b[38;5;241m=\u001b[39m token_refresh\n",
      "File \u001b[0;32m~/anaconda3/lib/python3.11/site-packages/pyorient/messages/base.py:366\u001b[0m, in \u001b[0;36mBaseMessage._decode_field\u001b[0;34m(self, _type)\u001b[0m\n\u001b[1;32m    364\u001b[0m     _decoded_string \u001b[38;5;241m=\u001b[39m \u001b[38;5;124mb\u001b[39m\u001b[38;5;124m'\u001b[39m\u001b[38;5;124m'\u001b[39m\n\u001b[1;32m    365\u001b[0m \u001b[38;5;28;01melse\u001b[39;00m:\n\u001b[0;32m--> 366\u001b[0m     _decoded_string \u001b[38;5;241m=\u001b[39m \u001b[38;5;28mself\u001b[39m\u001b[38;5;241m.\u001b[39m_orientSocket\u001b[38;5;241m.\u001b[39mread( _len )\n\u001b[1;32m    368\u001b[0m \u001b[38;5;28mself\u001b[39m\u001b[38;5;241m.\u001b[39m_input_buffer \u001b[38;5;241m+\u001b[39m\u001b[38;5;241m=\u001b[39m _value\n\u001b[1;32m    369\u001b[0m \u001b[38;5;28mself\u001b[39m\u001b[38;5;241m.\u001b[39m_input_buffer \u001b[38;5;241m+\u001b[39m\u001b[38;5;241m=\u001b[39m _decoded_string\n",
      "File \u001b[0;32m~/anaconda3/lib/python3.11/site-packages/pyorient/orient.py:169\u001b[0m, in \u001b[0;36mOrientSocket.read\u001b[0;34m(self, _len_to_read)\u001b[0m\n\u001b[1;32m    167\u001b[0m view \u001b[38;5;241m=\u001b[39m \u001b[38;5;28mmemoryview\u001b[39m(buf)\n\u001b[1;32m    168\u001b[0m \u001b[38;5;28;01mwhile\u001b[39;00m _len_to_read:\n\u001b[0;32m--> 169\u001b[0m     n_bytes \u001b[38;5;241m=\u001b[39m \u001b[38;5;28mself\u001b[39m\u001b[38;5;241m.\u001b[39m_socket\u001b[38;5;241m.\u001b[39mrecv_into(view, _len_to_read)\n\u001b[1;32m    170\u001b[0m     \u001b[38;5;28;01mif\u001b[39;00m \u001b[38;5;129;01mnot\u001b[39;00m n_bytes:\n\u001b[1;32m    171\u001b[0m         \u001b[38;5;28mself\u001b[39m\u001b[38;5;241m.\u001b[39m_socket\u001b[38;5;241m.\u001b[39mclose()\n",
      "\u001b[0;31mBlockingIOError\u001b[0m: [Errno 35] Resource temporarily unavailable"
     ]
    }
   ],
   "source": [
    "client.command(f\"insert into aeropuerto set {aeropuerto_info.columns[0]} = {aeropuerto_info.iloc[0,0]}, {aeropuerto_info.columns[1]} = {aeropuerto_info.iloc[0,1]}, {aeropuerto_info.columns[2]} = {aeropuerto_info.iloc[0,2]}, {aeropuerto_info.columns[3]} = {aeropuerto_info.iloc[0,3]}\")"
   ]
  },
  {
   "cell_type": "code",
   "execution_count": 39,
   "id": "43dfa36c",
   "metadata": {},
   "outputs": [],
   "source": [
    "aeropuerto_info = pd.read_csv(\"DataFrames/Info_Basica_Aeropuertos.csv\").iloc[:,1:]\n",
    "arrivos = pd.read_csv(\"DataFrames/arrivos.csv\").iloc[:,1:]\n",
    "aerolineas = pd.read_csv(\"DataFrames/Aerolineas.csv\").iloc[:,1:]\n",
    "aerolineas.fillna(\"NO\",inplace=True)\n",
    "aerolineas.drop_duplicates(subset=['IATA'],inplace=True)\n",
    "aerolineas = aerolineas[aerolineas['IATA'].str.len() <= 2]\n",
    "arrivos = arrivos.applymap(str)\n",
    "arrivos.drop_duplicates(inplace=True,subset=['Numero de Vuelo'])\n",
    "arrivos[\"cod origen\"] = arrivos.apply(lambda x: x['Origen'].split()[-1].replace('[','').replace(']',''), axis=1)\n",
    "arrivos['cod destino'] = arrivos.apply(lambda x: x['Destino'].split()[-1].replace('(','').replace(')',''), axis=1)\n",
    "aeropuerto_info['cod aero'] = aeropuerto_info.apply(lambda x: x['Nombre'].split()[-1].replace('(','').replace(')',''), axis=1)\n",
    "arrivos['cod vuelo'] = arrivos['Numero de Vuelo'].apply(lambda a: a[0:2]+a[3:])\n",
    "arrivos['IATA'] = arrivos['Numero de Vuelo'].apply(lambda a: a[0:2])"
   ]
  },
  {
   "cell_type": "code",
   "execution_count": null,
   "id": "9e2099ea",
   "metadata": {},
   "outputs": [],
   "source": [
    "aeropuerto_info.to_csv(\"Aeropuerto_info_ODB.csv\")\n",
    "aerolineas.to_csv(\"Aerolineas_ODB.csv\")\n",
    "arrivos.to_csv(\"Vuelos_ODB.csv\")"
   ]
  },
  {
   "cell_type": "markdown",
   "id": "9836651b",
   "metadata": {},
   "source": [
    "### Solución al problema\n",
    "\n",
    "Como se pudo observar anteriormente, OrientDB en Python tiene muchos errores. Por lo cual se decidio implementar Selenium para poder insertar los datos y hacer de esta manera la base de datos de los aeropuertos. "
   ]
  },
  {
   "cell_type": "code",
   "execution_count": 1,
   "id": "fbf12db9",
   "metadata": {},
   "outputs": [],
   "source": [
    "import requests\n",
    "import bs4\n",
    "from selenium import webdriver\n",
    "from selenium.webdriver.common.keys import Keys\n",
    "import time\n",
    "import requests\n",
    "import os\n",
    "from selenium.webdriver.common.by import By\n",
    "from selenium.webdriver.support import expected_conditions as EC\n",
    "from selenium.webdriver.support.ui import WebDriverWait\n",
    "from selenium.webdriver.support import ui\n",
    "import chromedriver_autoinstaller\n",
    "from selenium.common.exceptions import NoSuchElementException\n",
    "import pandas as pd"
   ]
  },
  {
   "cell_type": "code",
   "execution_count": 2,
   "id": "39f607de",
   "metadata": {
    "scrolled": true
   },
   "outputs": [
    {
     "data": {
      "text/plain": [
       "'/Users/manriquecamacho/anaconda3/lib/python3.11/site-packages/chromedriver_autoinstaller/118/chromedriver'"
      ]
     },
     "execution_count": 2,
     "metadata": {},
     "output_type": "execute_result"
    }
   ],
   "source": [
    "chromedriver_autoinstaller.install()  # Instala automáticamente la versión correcta de ChromeDriver"
   ]
  },
  {
   "cell_type": "markdown",
   "id": "0e10edee",
   "metadata": {},
   "source": [
    "### Base de datos de Aeropuertos"
   ]
  },
  {
   "cell_type": "code",
   "execution_count": 83,
   "id": "a045a840",
   "metadata": {},
   "outputs": [],
   "source": [
    "opt = webdriver.ChromeOptions() \n",
    "opt.add_argument(\"--start-maximized\") \n",
    "\n",
    "driver = webdriver.Chrome(options=opt)\n",
    "driver.get(\"http://localhost:2480/studio/index.html#\")\n",
    "\n",
    "\n",
    "wait = WebDriverWait(driver, 10)\n",
    "wait.until(EC.presence_of_element_located((By.ID, \"user\")))\n",
    "\n",
    "# Localiza el campo de entrada del nombre de usuario por su 'id' y envía las teclas\n",
    "username_field = driver.find_element(By.ID, 'user')\n",
    "username_field.send_keys('root') \n",
    "\n",
    "wait.until(EC.presence_of_element_located((By.ID, \"password\")))\n",
    "\n",
    "# Localiza el campo de entrada del nombre de password por su 'id' y envía las teclas\n",
    "password_field = driver.find_element(By.ID, 'password')\n",
    "password_field.send_keys('root')  \n",
    "\n",
    "wait.until(EC.presence_of_element_located((By.XPATH, '//*[@id=\"database-connect\"]'))).click()\n",
    "\n",
    "wait.until(EC.presence_of_element_located((By.XPATH, '//*[@id=\"wrap\"]/div[1]/div/nav/div/div[2]/ul[1]/li[2]/a[1]'))).click()\n",
    "\n",
    "wait.until(EC.presence_of_element_located((By.XPATH, '//*[@id=\"wrap\"]/div[1]/div/nav/div/div[2]/ul[1]/li[2]/a[1]'))).click()\n",
    "\n",
    "wait.until(EC.presence_of_element_located((By.XPATH, '//*[@id=\"wrap\"]/div[7]/div[2]/div/div/div/div[2]/div[3]/div/div/div[2]/classes-list[1]/div/div[2]/div/button'))).click()\n",
    "\n",
    "wait.until(EC.presence_of_element_located((By.XPATH, '//*[@id=\"inputName\"]')))\n",
    "\n",
    "nombre = 'Aeropuertos'\n",
    "name = driver.find_element(By.ID, 'inputName')\n",
    "name.send_keys(nombre) \n",
    "\n",
    "wait.until(EC.presence_of_element_located((By.XPATH, '/html/body/div[28]/new-vertex-modal/div/div/div[3]/button'))).click()"
   ]
  },
  {
   "cell_type": "code",
   "execution_count": 84,
   "id": "f5a80d7f",
   "metadata": {},
   "outputs": [],
   "source": [
    "#Seleccionar el vertex, donde dice 2 es donde se puede cambiar el row\n",
    "wait = WebDriverWait(driver, 10)\n",
    "\n",
    "df = aeropuerto_info\n",
    "\n",
    "wait.until(EC.presence_of_element_located((By.XPATH, \n",
    "                                           '//*[@id=\"wrap\"]/div[7]/div[2]/div/div/div/div[2]/div[3]/div/div/div[2]/classes-list[1]/div/div[3]/div/table/tbody/tr[1]/td[3]'))).click()\n",
    "\n",
    "#Create new record\n",
    "wait.until(EC.presence_of_element_located((By.XPATH, \n",
    "                                           '//*[@id=\"wrap\"]/div[7]/div[2]/div/div/div/div[1]/div/div[2]/div/div[3]/button'))).click()\n",
    "\n",
    "for column in df.columns:\n",
    "\n",
    "    wait.until(EC.presence_of_element_located((By.XPATH, \n",
    "                                           '//*[@id=\"wrap\"]/div[7]/div[2]/div/ng-include/div/div[2]/ng-include/div/div[1]/div/div/div[2]/button'))).click()\n",
    "    wait = WebDriverWait(driver, 10)\n",
    "    wait.until(EC.presence_of_element_located((By.XPATH, \"/html/body/div[4]/div/div/div[2]/form/div[1]/div/input\")))\n",
    "\n",
    "    field_name = driver.find_element(By.XPATH, '/html/body/div[4]/div/div/div[2]/form/div[1]/div/input')\n",
    "    field_name.send_keys(column) \n",
    "\n",
    "    wait.until(EC.presence_of_element_located((By.XPATH, '/html/body/div[4]/div/div/div[3]/button[2]'))).click()\n",
    "\n",
    "for rows in range(df.shape[0]):\n",
    "\n",
    "    for cols in range(1,df.shape[1]+1):\n",
    "\n",
    "        wait.until(EC.presence_of_element_located((By.XPATH, \n",
    "                                                   f'//*[@id=\"wrap\"]/div[7]/div[2]/div/ng-include/div/div[2]/ng-include/div/div[2]/div/form/fieldset/div/div/ng-form/div[{cols}]/div/div/ng-include/textarea')))\n",
    "\n",
    "        # Localiza el campo de entrada del nombre de usuario por su 'id' y envía las teclas\n",
    "        username_field = driver.find_element(By.XPATH, \n",
    "                                             f'//*[@id=\"wrap\"]/div[7]/div[2]/div/ng-include/div/div[2]/ng-include/div/div[2]/div/form/fieldset/div/div/ng-form/div[{cols}]/div/div/ng-include/textarea')\n",
    "        username_field.send_keys(df.iloc[rows,cols-1]) \n",
    "\n",
    "    wait.until(EC.presence_of_element_located((By.XPATH, \n",
    "                                               '//*[@id=\"wrap\"]/div[7]/div[2]/div/ng-include/div/div[2]/ng-include/div/div[1]/div/div/div[1]/button'))).click()\n",
    "    for cols in range(1,df.shape[1]+1):\n",
    "\n",
    "        wait.until(EC.presence_of_element_located((By.XPATH, \n",
    "                                                   f'//*[@id=\"wrap\"]/div[7]/div[2]/div/ng-include/div/div[2]/ng-include/div/div[2]/div/form/fieldset/div/div/ng-form/div[{cols}]/div/div/ng-include/textarea')))\n",
    "\n",
    "        # Localiza el campo de entrada del nombre de usuario por su 'id' y envía las teclas\n",
    "        username_field = driver.find_element(By.XPATH, \n",
    "                                             f'//*[@id=\"wrap\"]/div[7]/div[2]/div/ng-include/div/div[2]/ng-include/div/div[2]/div/form/fieldset/div/div/ng-form/div[{cols}]/div/div/ng-include/textarea')\n",
    "        username_field.clear()"
   ]
  },
  {
   "cell_type": "markdown",
   "id": "cbfa34c5",
   "metadata": {},
   "source": [
    "## Base de datos de Vuelos"
   ]
  },
  {
   "cell_type": "code",
   "execution_count": 138,
   "id": "b7ec3818",
   "metadata": {},
   "outputs": [],
   "source": [
    "opt = webdriver.ChromeOptions() \n",
    "opt.add_argument(\"--start-maximized\") \n",
    "\n",
    "driver = webdriver.Chrome(options=opt)\n",
    "driver.get(\"http://localhost:2480/studio/index.html#\")\n",
    "\n",
    "\n",
    "wait = WebDriverWait(driver, 10)\n",
    "wait.until(EC.presence_of_element_located((By.ID, \"user\")))\n",
    "\n",
    "# Localiza el campo de entrada del nombre de usuario por su 'id' y envía las teclas\n",
    "username_field = driver.find_element(By.ID, 'user')\n",
    "username_field.send_keys('root') \n",
    "\n",
    "wait.until(EC.presence_of_element_located((By.ID, \"password\")))\n",
    "\n",
    "# Localiza el campo de entrada del nombre de password por su 'id' y envía las teclas\n",
    "password_field = driver.find_element(By.ID, 'password')\n",
    "password_field.send_keys('root')  \n",
    "\n",
    "wait.until(EC.presence_of_element_located((By.XPATH, '//*[@id=\"database-connect\"]'))).click()\n",
    "\n",
    "wait.until(EC.presence_of_element_located((By.XPATH, '//*[@id=\"wrap\"]/div[1]/div/nav/div/div[2]/ul[1]/li[2]/a[1]'))).click()\n",
    "\n",
    "wait.until(EC.presence_of_element_located((By.XPATH, '//*[@id=\"wrap\"]/div[1]/div/nav/div/div[2]/ul[1]/li[2]/a[1]'))).click()\n",
    "\n",
    "wait.until(EC.presence_of_element_located((By.XPATH, '//*[@id=\"wrap\"]/div[7]/div[2]/div/div/div/div[2]/div[3]/div/div/div[2]/classes-list[1]/div/div[2]/div/button'))).click()\n",
    "\n",
    "wait.until(EC.presence_of_element_located((By.XPATH, '//*[@id=\"inputName\"]')))\n",
    "\n",
    "nombre = 'Vuelo'\n",
    "name = wait.until(EC.presence_of_element_located((By.ID, 'inputName')))\n",
    "name.send_keys(nombre) \n",
    "\n",
    "wait.until(EC.presence_of_element_located((By.XPATH, '/html/body/div[31]/new-vertex-modal/div/div/div[3]/button'))).click()"
   ]
  },
  {
   "cell_type": "code",
   "execution_count": 143,
   "id": "a1139396",
   "metadata": {},
   "outputs": [
    {
     "ename": "ElementClickInterceptedException",
     "evalue": "Message: element click intercepted: Element <button type=\"submit\" class=\"btn btn-sm btn-primary\" ng-show=\"canSave\" ng-click=\"save(docForm)\" ng-disabled=\"!docValid\" tooltip=\"Save\">...</button> is not clickable at point (919, 12). Other element would receive the click: <div class=\"collapse navbar-collapse navbar-ex1-collapse\">...</div>\n  (Session info: chrome=118.0.5993.70)\nStacktrace:\n0   chromedriver                        0x000000010113c510 chromedriver + 4310288\n1   chromedriver                        0x00000001011344bc chromedriver + 4277436\n2   chromedriver                        0x0000000100d67b6c chromedriver + 293740\n3   chromedriver                        0x0000000100db3cb4 chromedriver + 605364\n4   chromedriver                        0x0000000100db1d7c chromedriver + 597372\n5   chromedriver                        0x0000000100daf9a4 chromedriver + 588196\n6   chromedriver                        0x0000000100daea1c chromedriver + 584220\n7   chromedriver                        0x0000000100da2eac chromedriver + 536236\n8   chromedriver                        0x0000000100da2774 chromedriver + 534388\n9   chromedriver                        0x0000000100de7e60 chromedriver + 818784\n10  chromedriver                        0x0000000100da0fd0 chromedriver + 528336\n11  chromedriver                        0x0000000100da1e7c chromedriver + 532092\n12  chromedriver                        0x0000000101102834 chromedriver + 4073524\n13  chromedriver                        0x00000001011067fc chromedriver + 4089852\n14  chromedriver                        0x0000000101106c58 chromedriver + 4090968\n15  chromedriver                        0x000000010110c8f8 chromedriver + 4114680\n16  chromedriver                        0x0000000101107234 chromedriver + 4092468\n17  chromedriver                        0x00000001010e1604 chromedriver + 3937796\n18  chromedriver                        0x0000000101123ee8 chromedriver + 4210408\n19  chromedriver                        0x0000000101124064 chromedriver + 4210788\n20  chromedriver                        0x0000000101134134 chromedriver + 4276532\n21  libsystem_pthread.dylib             0x000000018124f034 _pthread_start + 136\n22  libsystem_pthread.dylib             0x0000000181249e3c thread_start + 8\n",
     "output_type": "error",
     "traceback": [
      "\u001b[0;31m---------------------------------------------------------------------------\u001b[0m",
      "\u001b[0;31mElementClickInterceptedException\u001b[0m          Traceback (most recent call last)",
      "Cell \u001b[0;32mIn[143], line 38\u001b[0m\n\u001b[1;32m     33\u001b[0m     username_field \u001b[38;5;241m=\u001b[39m driver\u001b[38;5;241m.\u001b[39mfind_element(By\u001b[38;5;241m.\u001b[39mXPATH, \n\u001b[1;32m     34\u001b[0m                                          \u001b[38;5;124mf\u001b[39m\u001b[38;5;124m'\u001b[39m\u001b[38;5;124m//*[@id=\u001b[39m\u001b[38;5;124m\"\u001b[39m\u001b[38;5;124mwrap\u001b[39m\u001b[38;5;124m\"\u001b[39m\u001b[38;5;124m]/div[7]/div[2]/div/ng-include/div/div[2]/ng-include/div/div[2]/div/form/fieldset/div/div/ng-form/div[\u001b[39m\u001b[38;5;132;01m{\u001b[39;00mcols\u001b[38;5;132;01m}\u001b[39;00m\u001b[38;5;124m]/div/div/ng-include/textarea\u001b[39m\u001b[38;5;124m'\u001b[39m)\n\u001b[1;32m     35\u001b[0m     username_field\u001b[38;5;241m.\u001b[39msend_keys(df\u001b[38;5;241m.\u001b[39miloc[rows,cols\u001b[38;5;241m-\u001b[39m\u001b[38;5;241m1\u001b[39m]) \n\u001b[1;32m     37\u001b[0m wait\u001b[38;5;241m.\u001b[39muntil(EC\u001b[38;5;241m.\u001b[39mpresence_of_element_located((By\u001b[38;5;241m.\u001b[39mXPATH, \n\u001b[0;32m---> 38\u001b[0m                                            \u001b[38;5;124m'\u001b[39m\u001b[38;5;124m//*[@id=\u001b[39m\u001b[38;5;124m\"\u001b[39m\u001b[38;5;124mwrap\u001b[39m\u001b[38;5;124m\"\u001b[39m\u001b[38;5;124m]/div[7]/div[2]/div/ng-include/div/div[2]/ng-include/div/div[1]/div/div/div[1]/button\u001b[39m\u001b[38;5;124m'\u001b[39m)))\u001b[38;5;241m.\u001b[39mclick()\n\u001b[1;32m     39\u001b[0m \u001b[38;5;28;01mfor\u001b[39;00m colsi \u001b[38;5;129;01min\u001b[39;00m \u001b[38;5;28mrange\u001b[39m(\u001b[38;5;241m1\u001b[39m,df\u001b[38;5;241m.\u001b[39mshape[\u001b[38;5;241m1\u001b[39m]\u001b[38;5;241m+\u001b[39m\u001b[38;5;241m1\u001b[39m):\n\u001b[1;32m     41\u001b[0m     time\u001b[38;5;241m.\u001b[39msleep(\u001b[38;5;241m10\u001b[39m)\n",
      "File \u001b[0;32m~/anaconda3/lib/python3.11/site-packages/selenium/webdriver/remote/webelement.py:93\u001b[0m, in \u001b[0;36mWebElement.click\u001b[0;34m(self)\u001b[0m\n\u001b[1;32m     91\u001b[0m \u001b[38;5;28;01mdef\u001b[39;00m \u001b[38;5;21mclick\u001b[39m(\u001b[38;5;28mself\u001b[39m) \u001b[38;5;241m-\u001b[39m\u001b[38;5;241m>\u001b[39m \u001b[38;5;28;01mNone\u001b[39;00m:\n\u001b[1;32m     92\u001b[0m \u001b[38;5;250m    \u001b[39m\u001b[38;5;124;03m\"\"\"Clicks the element.\"\"\"\u001b[39;00m\n\u001b[0;32m---> 93\u001b[0m     \u001b[38;5;28mself\u001b[39m\u001b[38;5;241m.\u001b[39m_execute(Command\u001b[38;5;241m.\u001b[39mCLICK_ELEMENT)\n",
      "File \u001b[0;32m~/anaconda3/lib/python3.11/site-packages/selenium/webdriver/remote/webelement.py:394\u001b[0m, in \u001b[0;36mWebElement._execute\u001b[0;34m(self, command, params)\u001b[0m\n\u001b[1;32m    392\u001b[0m     params \u001b[38;5;241m=\u001b[39m {}\n\u001b[1;32m    393\u001b[0m params[\u001b[38;5;124m\"\u001b[39m\u001b[38;5;124mid\u001b[39m\u001b[38;5;124m\"\u001b[39m] \u001b[38;5;241m=\u001b[39m \u001b[38;5;28mself\u001b[39m\u001b[38;5;241m.\u001b[39m_id\n\u001b[0;32m--> 394\u001b[0m \u001b[38;5;28;01mreturn\u001b[39;00m \u001b[38;5;28mself\u001b[39m\u001b[38;5;241m.\u001b[39m_parent\u001b[38;5;241m.\u001b[39mexecute(command, params)\n",
      "File \u001b[0;32m~/anaconda3/lib/python3.11/site-packages/selenium/webdriver/remote/webdriver.py:344\u001b[0m, in \u001b[0;36mWebDriver.execute\u001b[0;34m(self, driver_command, params)\u001b[0m\n\u001b[1;32m    342\u001b[0m response \u001b[38;5;241m=\u001b[39m \u001b[38;5;28mself\u001b[39m\u001b[38;5;241m.\u001b[39mcommand_executor\u001b[38;5;241m.\u001b[39mexecute(driver_command, params)\n\u001b[1;32m    343\u001b[0m \u001b[38;5;28;01mif\u001b[39;00m response:\n\u001b[0;32m--> 344\u001b[0m     \u001b[38;5;28mself\u001b[39m\u001b[38;5;241m.\u001b[39merror_handler\u001b[38;5;241m.\u001b[39mcheck_response(response)\n\u001b[1;32m    345\u001b[0m     response[\u001b[38;5;124m\"\u001b[39m\u001b[38;5;124mvalue\u001b[39m\u001b[38;5;124m\"\u001b[39m] \u001b[38;5;241m=\u001b[39m \u001b[38;5;28mself\u001b[39m\u001b[38;5;241m.\u001b[39m_unwrap_value(response\u001b[38;5;241m.\u001b[39mget(\u001b[38;5;124m\"\u001b[39m\u001b[38;5;124mvalue\u001b[39m\u001b[38;5;124m\"\u001b[39m, \u001b[38;5;28;01mNone\u001b[39;00m))\n\u001b[1;32m    346\u001b[0m     \u001b[38;5;28;01mreturn\u001b[39;00m response\n",
      "File \u001b[0;32m~/anaconda3/lib/python3.11/site-packages/selenium/webdriver/remote/errorhandler.py:229\u001b[0m, in \u001b[0;36mErrorHandler.check_response\u001b[0;34m(self, response)\u001b[0m\n\u001b[1;32m    227\u001b[0m         alert_text \u001b[38;5;241m=\u001b[39m value[\u001b[38;5;124m\"\u001b[39m\u001b[38;5;124malert\u001b[39m\u001b[38;5;124m\"\u001b[39m]\u001b[38;5;241m.\u001b[39mget(\u001b[38;5;124m\"\u001b[39m\u001b[38;5;124mtext\u001b[39m\u001b[38;5;124m\"\u001b[39m)\n\u001b[1;32m    228\u001b[0m     \u001b[38;5;28;01mraise\u001b[39;00m exception_class(message, screen, stacktrace, alert_text)  \u001b[38;5;66;03m# type: ignore[call-arg]  # mypy is not smart enough here\u001b[39;00m\n\u001b[0;32m--> 229\u001b[0m \u001b[38;5;28;01mraise\u001b[39;00m exception_class(message, screen, stacktrace)\n",
      "\u001b[0;31mElementClickInterceptedException\u001b[0m: Message: element click intercepted: Element <button type=\"submit\" class=\"btn btn-sm btn-primary\" ng-show=\"canSave\" ng-click=\"save(docForm)\" ng-disabled=\"!docValid\" tooltip=\"Save\">...</button> is not clickable at point (919, 12). Other element would receive the click: <div class=\"collapse navbar-collapse navbar-ex1-collapse\">...</div>\n  (Session info: chrome=118.0.5993.70)\nStacktrace:\n0   chromedriver                        0x000000010113c510 chromedriver + 4310288\n1   chromedriver                        0x00000001011344bc chromedriver + 4277436\n2   chromedriver                        0x0000000100d67b6c chromedriver + 293740\n3   chromedriver                        0x0000000100db3cb4 chromedriver + 605364\n4   chromedriver                        0x0000000100db1d7c chromedriver + 597372\n5   chromedriver                        0x0000000100daf9a4 chromedriver + 588196\n6   chromedriver                        0x0000000100daea1c chromedriver + 584220\n7   chromedriver                        0x0000000100da2eac chromedriver + 536236\n8   chromedriver                        0x0000000100da2774 chromedriver + 534388\n9   chromedriver                        0x0000000100de7e60 chromedriver + 818784\n10  chromedriver                        0x0000000100da0fd0 chromedriver + 528336\n11  chromedriver                        0x0000000100da1e7c chromedriver + 532092\n12  chromedriver                        0x0000000101102834 chromedriver + 4073524\n13  chromedriver                        0x00000001011067fc chromedriver + 4089852\n14  chromedriver                        0x0000000101106c58 chromedriver + 4090968\n15  chromedriver                        0x000000010110c8f8 chromedriver + 4114680\n16  chromedriver                        0x0000000101107234 chromedriver + 4092468\n17  chromedriver                        0x00000001010e1604 chromedriver + 3937796\n18  chromedriver                        0x0000000101123ee8 chromedriver + 4210408\n19  chromedriver                        0x0000000101124064 chromedriver + 4210788\n20  chromedriver                        0x0000000101134134 chromedriver + 4276532\n21  libsystem_pthread.dylib             0x000000018124f034 _pthread_start + 136\n22  libsystem_pthread.dylib             0x0000000181249e3c thread_start + 8\n"
     ]
    }
   ],
   "source": [
    "#Seleccionar el vertex, donde dice 2 es donde se puede cambiar el row\n",
    "wait = WebDriverWait(driver, 10)\n",
    "\n",
    "df = arrivos\n",
    "\n",
    "wait.until(EC.presence_of_element_located((By.XPATH, \n",
    "                                           '//*[@id=\"wrap\"]/div[7]/div[2]/div/div/div/div[2]/div[3]/div/div/div[2]/classes-list[1]/div/div[3]/div/table/tbody/tr[5]/td[3]'))).click()\n",
    "\n",
    "#Create new record\n",
    "wait.until(EC.presence_of_element_located((By.XPATH, \n",
    "                                           '//*[@id=\"wrap\"]/div[7]/div[2]/div/div/div/div[1]/div/div[2]/div/div[3]/button'))).click()\n",
    "\n",
    "for column in df.columns:\n",
    "\n",
    "    wait.until(EC.presence_of_element_located((By.XPATH, \n",
    "                                           '//*[@id=\"wrap\"]/div[7]/div[2]/div/ng-include/div/div[2]/ng-include/div/div[1]/div/div/div[2]/button'))).click()\n",
    "    wait = WebDriverWait(driver, 10)\n",
    "    wait.until(EC.presence_of_element_located((By.XPATH, \"/html/body/div[4]/div/div/div[2]/form/div[1]/div/input\")))\n",
    "\n",
    "    field_name = driver.find_element(By.XPATH, '/html/body/div[4]/div/div/div[2]/form/div[1]/div/input')\n",
    "    field_name.send_keys(column) \n",
    "\n",
    "    wait.until(EC.presence_of_element_located((By.XPATH, '/html/body/div[4]/div/div/div[3]/button[2]'))).click()\n",
    "\n",
    "for rows in range(df.shape[0]):\n",
    "\n",
    "    for cols in range(1,df.shape[1]+1):\n",
    "\n",
    "        wait.until(EC.presence_of_element_located((By.XPATH, \n",
    "                                                   f'//*[@id=\"wrap\"]/div[7]/div[2]/div/ng-include/div/div[2]/ng-include/div/div[2]/div/form/fieldset/div/div/ng-form/div[{cols}]/div/div/ng-include/textarea')))\n",
    "\n",
    "        # Localiza el campo de entrada del nombre de usuario por su 'id' y envía las teclas\n",
    "        username_field = driver.find_element(By.XPATH, \n",
    "                                             f'//*[@id=\"wrap\"]/div[7]/div[2]/div/ng-include/div/div[2]/ng-include/div/div[2]/div/form/fieldset/div/div/ng-form/div[{cols}]/div/div/ng-include/textarea')\n",
    "        username_field.send_keys(df.iloc[rows,cols-1]) \n",
    "\n",
    "    wait.until(EC.presence_of_element_located((By.XPATH, \n",
    "                                               '//*[@id=\"wrap\"]/div[7]/div[2]/div/ng-include/div/div[2]/ng-include/div/div[1]/div/div/div[1]/button'))).click()\n",
    "    for colsi in range(1,df.shape[1]+1):\n",
    "        \n",
    "        time.sleep(10)\n",
    "\n",
    "        wait.until(EC.presence_of_element_located((By.XPATH, \n",
    "                                                   f'//*[@id=\"wrap\"]/div[7]/div[2]/div/ng-include/div/div[2]/ng-include/div/div[2]/div/form/fieldset/div/div/ng-form/div[{colsi}]/div/div/ng-include/textarea'))).clear()\n",
    "\n",
    "        # Localiza el campo de entrada del nombre de usuario por su 'id' y envía las teclas\n",
    "        user = driver.find_element(By.XPATH, \n",
    "                                             f'//*[@id=\"wrap\"]/div[7]/div[2]/div/ng-include/div/div[2]/ng-include/div/div[2]/div/form/fieldset/div/div/ng-form/div[{colsi}]/div/div/ng-include/textarea').clear()"
   ]
  }
 ],
 "metadata": {
  "kernelspec": {
   "display_name": "Python 3 (ipykernel)",
   "language": "python",
   "name": "python3"
  },
  "language_info": {
   "codemirror_mode": {
    "name": "ipython",
    "version": 3
   },
   "file_extension": ".py",
   "mimetype": "text/x-python",
   "name": "python",
   "nbconvert_exporter": "python",
   "pygments_lexer": "ipython3",
   "version": "3.11.5"
  }
 },
 "nbformat": 4,
 "nbformat_minor": 5
}
